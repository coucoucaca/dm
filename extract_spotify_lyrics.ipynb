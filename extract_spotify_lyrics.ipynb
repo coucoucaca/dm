{
 "cells": [
  {
   "cell_type": "code",
   "execution_count": 94,
   "id": "bb2a285d-4958-4c31-9dac-b494a3cab8e8",
   "metadata": {
    "scrolled": true
   },
   "outputs": [
    {
     "name": "stdout",
     "output_type": "stream",
     "text": [
      "Requirement already satisfied: pandas in /opt/anaconda3/lib/python3.11/site-packages (2.1.4)\n",
      "Requirement already satisfied: numpy<2,>=1.23.2 in /opt/anaconda3/lib/python3.11/site-packages (from pandas) (1.26.4)\n",
      "Requirement already satisfied: python-dateutil>=2.8.2 in /opt/anaconda3/lib/python3.11/site-packages (from pandas) (2.8.2)\n",
      "Requirement already satisfied: pytz>=2020.1 in /opt/anaconda3/lib/python3.11/site-packages (from pandas) (2023.3.post1)\n",
      "Requirement already satisfied: tzdata>=2022.1 in /opt/anaconda3/lib/python3.11/site-packages (from pandas) (2023.3)\n",
      "Requirement already satisfied: six>=1.5 in /opt/anaconda3/lib/python3.11/site-packages (from python-dateutil>=2.8.2->pandas) (1.16.0)\n"
     ]
    }
   ],
   "source": [
    "import sys\n",
    "get_ipython().system('{sys.executable} -m pip install pandas')\n",
    "\n",
    "# get_ipython().system('{sys.executable} -m pip install nltk')\n",
    "\n"
   ]
  },
  {
   "cell_type": "code",
   "execution_count": 95,
   "id": "ad32a809",
   "metadata": {},
   "outputs": [],
   "source": [
    "file = open('spotify_millsongdata.csv')\n",
    "file.close()"
   ]
  },
  {
   "cell_type": "code",
   "execution_count": 96,
   "id": "9644d1f6",
   "metadata": {},
   "outputs": [],
   "source": [
    "import numpy as np\n",
    "import pandas as pd\n",
    "import csv"
   ]
  },
  {
   "cell_type": "markdown",
   "id": "b3ce53de",
   "metadata": {},
   "source": [
    "<h2>Please note:</h2>\n",
    "<h3>\n",
    "    The original dataset, \"spotify_millsongdata.csv\" is too big (<strong>74MB</strong>) for submission therefore I am extracting only the necessary data and create new csv file with extract. Hopefully it will be small enough!</h3>"
   ]
  },
  {
   "cell_type": "code",
   "execution_count": 97,
   "id": "158178af",
   "metadata": {
    "scrolled": true
   },
   "outputs": [
    {
     "data": {
      "text/plain": [
       "RangeIndex(start=0, stop=57650, step=1)"
      ]
     },
     "execution_count": 97,
     "metadata": {},
     "output_type": "execute_result"
    }
   ],
   "source": [
    "df=pd.read_csv('spotify_millsongdata.csv')\n",
    "df.dropna(inplace = True)\n",
    "df.index"
   ]
  },
  {
   "cell_type": "code",
   "execution_count": 98,
   "id": "1aaf4105",
   "metadata": {},
   "outputs": [],
   "source": [
    "#minify "
   ]
  },
  {
   "cell_type": "code",
   "execution_count": 99,
   "id": "c973b957",
   "metadata": {},
   "outputs": [],
   "source": [
    "# print(df.iloc[1490:2000] )# bs\n",
    "# print(df.iloc[4000:4200] )#dp\n",
    "# print(df.iloc[15000:23000] )\n",
    "# df = df.iloc[0:-1] \n",
    "df_p1 = df[1400:2000] #PW1899\n",
    "df_p2 = df[4000:4300] #Depeche\n",
    "# df_p3= df[15800:16000]#pw15929\n",
    "df_p4= df[25200:29813]# 29585 Depeche \n",
    "#Lovely day [15198, 25228, 29812]\n",
    "\n"
   ]
  },
  {
   "cell_type": "code",
   "execution_count": 100,
   "id": "0c6ef4bf",
   "metadata": {
    "scrolled": true
   },
   "outputs": [],
   "source": [
    "def minify(df_part):\n",
    "    artist_list=[]\n",
    "    song_list = []\n",
    "    lyrics_list = []\n",
    "    \n",
    "    for index, row in df_part.iterrows():\n",
    "             \n",
    "        artist_list.append(row['artist'])\n",
    "        song_list.append(row['song'])\n",
    "        lyrics_list.append(row['text'])\n",
    "        \n",
    "    #first save to dictionary\n",
    "    dict_dm = {'artist': artist_list,'song': song_list, 'lyrics': lyrics_list }\n",
    "\n",
    "    #saving to data frame\n",
    "    field_names_all = ['artist','song_title', 'lyrics'] \n",
    "    mini_df = pd.DataFrame(dict_dm)\n",
    "    \n",
    "    return mini_df\n",
    "\n",
    "\n",
    "frames = [minify(df_p1),minify(df_p2), minify(df_p4)]\n",
    "result = pd.concat(frames)\n",
    "  \n",
    "# saving the dictonary of song and lyrics to new csv\n",
    "\n",
    "result.to_csv('minified_spotify.csv')\n",
    "\n"
   ]
  },
  {
   "cell_type": "markdown",
   "id": "d3c3988d",
   "metadata": {},
   "source": [
    "<h2>Test Minified csv</h2>"
   ]
  },
  {
   "cell_type": "code",
   "execution_count": 101,
   "id": "4cbf30f1",
   "metadata": {},
   "outputs": [
    {
     "data": {
      "text/plain": [
       "RangeIndex(start=0, stop=5513, step=1)"
      ]
     },
     "execution_count": 101,
     "metadata": {},
     "output_type": "execute_result"
    }
   ],
   "source": [
    "df_mini=pd.read_csv('minified_spotify.csv')\n",
    "# df.dropna(inplace = True)\n",
    "df_mini.index"
   ]
  },
  {
   "cell_type": "code",
   "execution_count": 102,
   "id": "9868cb1a",
   "metadata": {
    "scrolled": true
   },
   "outputs": [
    {
     "data": {
      "text/html": [
       "<div>\n",
       "<style scoped>\n",
       "    .dataframe tbody tr th:only-of-type {\n",
       "        vertical-align: middle;\n",
       "    }\n",
       "\n",
       "    .dataframe tbody tr th {\n",
       "        vertical-align: top;\n",
       "    }\n",
       "\n",
       "    .dataframe thead th {\n",
       "        text-align: right;\n",
       "    }\n",
       "</style>\n",
       "<table border=\"1\" class=\"dataframe\">\n",
       "  <thead>\n",
       "    <tr style=\"text-align: right;\">\n",
       "      <th></th>\n",
       "      <th>Unnamed: 0</th>\n",
       "      <th>artist</th>\n",
       "      <th>song</th>\n",
       "      <th>lyrics</th>\n",
       "    </tr>\n",
       "  </thead>\n",
       "  <tbody>\n",
       "    <tr>\n",
       "      <th>0</th>\n",
       "      <td>0</td>\n",
       "      <td>Billy Joel</td>\n",
       "      <td>Christie Lee</td>\n",
       "      <td>Let me tell you a story  \\r\\nAbout a woman and...</td>\n",
       "    </tr>\n",
       "    <tr>\n",
       "      <th>1</th>\n",
       "      <td>1</td>\n",
       "      <td>Billy Joel</td>\n",
       "      <td>Christmas In Fallujah</td>\n",
       "      <td>It's evening in the desert  \\r\\nI'm tired and ...</td>\n",
       "    </tr>\n",
       "    <tr>\n",
       "      <th>2</th>\n",
       "      <td>2</td>\n",
       "      <td>Billy Joel</td>\n",
       "      <td>Close To The Borderline</td>\n",
       "      <td>Blackout, heatwave,.44 caliber homicide  \\r\\nT...</td>\n",
       "    </tr>\n",
       "    <tr>\n",
       "      <th>3</th>\n",
       "      <td>3</td>\n",
       "      <td>Billy Joel</td>\n",
       "      <td>Code Of Silence</td>\n",
       "      <td>Everybody's got a million questions  \\r\\nEvery...</td>\n",
       "    </tr>\n",
       "    <tr>\n",
       "      <th>4</th>\n",
       "      <td>4</td>\n",
       "      <td>Billy Joel</td>\n",
       "      <td>Don't Worry Baby (Live)</td>\n",
       "      <td>(This one's for Alexa, okay?)  \\r\\n  \\r\\nAh, a...</td>\n",
       "    </tr>\n",
       "    <tr>\n",
       "      <th>...</th>\n",
       "      <td>...</td>\n",
       "      <td>...</td>\n",
       "      <td>...</td>\n",
       "      <td>...</td>\n",
       "    </tr>\n",
       "    <tr>\n",
       "      <th>5508</th>\n",
       "      <td>4608</td>\n",
       "      <td>Diana Ross</td>\n",
       "      <td>Love Is Like An Itching In My Heart</td>\n",
       "      <td>The love bug done bit me,  \\r\\nDidn't mean for...</td>\n",
       "    </tr>\n",
       "    <tr>\n",
       "      <th>5509</th>\n",
       "      <td>4609</td>\n",
       "      <td>Diana Ross</td>\n",
       "      <td>Love Lies</td>\n",
       "      <td>Whenever I touch you lately, you seem to pull ...</td>\n",
       "    </tr>\n",
       "    <tr>\n",
       "      <th>5510</th>\n",
       "      <td>4610</td>\n",
       "      <td>Diana Ross</td>\n",
       "      <td>Love Me</td>\n",
       "      <td>Love me  \\r\\n  \\r\\nLove me the way that you lo...</td>\n",
       "    </tr>\n",
       "    <tr>\n",
       "      <th>5511</th>\n",
       "      <td>4611</td>\n",
       "      <td>Diana Ross</td>\n",
       "      <td>Love On The Line</td>\n",
       "      <td>When I don't see you  \\r\\nAnd I don't know whe...</td>\n",
       "    </tr>\n",
       "    <tr>\n",
       "      <th>5512</th>\n",
       "      <td>4612</td>\n",
       "      <td>Diana Ross</td>\n",
       "      <td>Lovely Day</td>\n",
       "      <td>When I wake up in the morning, love  \\r\\nAnd t...</td>\n",
       "    </tr>\n",
       "  </tbody>\n",
       "</table>\n",
       "<p>5513 rows × 4 columns</p>\n",
       "</div>"
      ],
      "text/plain": [
       "      Unnamed: 0      artist                                 song  \\\n",
       "0              0  Billy Joel                         Christie Lee   \n",
       "1              1  Billy Joel                Christmas In Fallujah   \n",
       "2              2  Billy Joel              Close To The Borderline   \n",
       "3              3  Billy Joel                      Code Of Silence   \n",
       "4              4  Billy Joel              Don't Worry Baby (Live)   \n",
       "...          ...         ...                                  ...   \n",
       "5508        4608  Diana Ross  Love Is Like An Itching In My Heart   \n",
       "5509        4609  Diana Ross                            Love Lies   \n",
       "5510        4610  Diana Ross                              Love Me   \n",
       "5511        4611  Diana Ross                     Love On The Line   \n",
       "5512        4612  Diana Ross                           Lovely Day   \n",
       "\n",
       "                                                 lyrics  \n",
       "0     Let me tell you a story  \\r\\nAbout a woman and...  \n",
       "1     It's evening in the desert  \\r\\nI'm tired and ...  \n",
       "2     Blackout, heatwave,.44 caliber homicide  \\r\\nT...  \n",
       "3     Everybody's got a million questions  \\r\\nEvery...  \n",
       "4     (This one's for Alexa, okay?)  \\r\\n  \\r\\nAh, a...  \n",
       "...                                                 ...  \n",
       "5508  The love bug done bit me,  \\r\\nDidn't mean for...  \n",
       "5509  Whenever I touch you lately, you seem to pull ...  \n",
       "5510  Love me  \\r\\n  \\r\\nLove me the way that you lo...  \n",
       "5511  When I don't see you  \\r\\nAnd I don't know whe...  \n",
       "5512  When I wake up in the morning, love  \\r\\nAnd t...  \n",
       "\n",
       "[5513 rows x 4 columns]"
      ]
     },
     "execution_count": 102,
     "metadata": {},
     "output_type": "execute_result"
    }
   ],
   "source": [
    "df_mini"
   ]
  },
  {
   "cell_type": "markdown",
   "id": "cd8f465f",
   "metadata": {},
   "source": [
    "<h2>Find artist</h2>"
   ]
  },
  {
   "cell_type": "code",
   "execution_count": 103,
   "id": "27d8ea60",
   "metadata": {},
   "outputs": [
    {
     "name": "stdout",
     "output_type": "stream",
     "text": [
      "Index([ 4082,  4083,  4084,  4085,  4086,  4087,  4088,  4089,  4090,  4091,\n",
      "       ...\n",
      "       29576, 29577, 29578, 29579, 29580, 29581, 29582, 29583, 29584, 29585],\n",
      "      dtype='int64', length=167)\n",
      "None\n"
     ]
    }
   ],
   "source": [
    "#search if depeche mode is in the data frame\n",
    "def find_artist(df_p,name):\n",
    "#     print(name)\n",
    "    for index, row in df_p.iterrows():\n",
    "#         print(artist)\n",
    "        if row['artist'] == name:\n",
    "#             return True\n",
    "            row_index = df.loc[df['artist'] == name].index\n",
    "#             song_index = df_p.loc[df['song']== song_title].index\n",
    "            return row_index\n",
    "#\n",
    "print(find_artist(df_mini, \"Depeche Mode\"))\n",
    "\n",
    "print(find_artist(df_mini, \"Pharrell Williams\"))\n",
    "\n"
   ]
  },
  {
   "cell_type": "markdown",
   "id": "1d8c6956",
   "metadata": {},
   "source": [
    "<h2>Function to find particular artist songs </h2>\n"
   ]
  },
  {
   "cell_type": "code",
   "execution_count": 67,
   "id": "eb2b88f5",
   "metadata": {
    "scrolled": false
   },
   "outputs": [
    {
     "name": "stdout",
     "output_type": "stream",
     "text": [
      "Index([ 1899,  2041, 12632, 13034, 14772, 15929, 18024, 19774, 20055, 23976,\n",
      "       27700, 33769],\n",
      "      dtype='int64')\n",
      "Index([29581], dtype='int64')\n",
      "Index([15198, 25228, 29812], dtype='int64')\n",
      "Index([1491], dtype='int64')\n"
     ]
    }
   ],
   "source": [
    "#search if depeche mode is in the data frame\n",
    "def find_artist(df_p,name, song_title):\n",
    "#     print(name)\n",
    "    for index, row in df_p.iterrows():\n",
    "#         print(artist)\n",
    "        try:\n",
    "            if row['artist'] == name and row['song'] == song_title :\n",
    "        #             return True\n",
    "        #             row_index = df.loc[df['artist'] == name].index\n",
    "                song_index = df_p.loc[df['song']== song_title].index\n",
    "                return song_index\n",
    "        except:\n",
    "            print('not found')\n",
    "            \n",
    "            \n",
    "            \n",
    "print(find_artist(df_mini, \"Pharrell Williams\", \"Happy\"))\n",
    "print(find_artist(df_mini, \"Depeche Mode\", \"Useless [The Kruder And Dorfmeister Session]\"))\n",
    "print(find_artist(df_mini, \"Bill Withers\", \"Lovely Day\"))\n",
    "print(find_artist(df_mini, \"Black Sabbath\", \"Black Sabbath\"))\n"
   ]
  },
  {
   "cell_type": "markdown",
   "id": "ff26b4c7",
   "metadata": {},
   "source": [
    "<h2>Songs to compare. these songs are know to be very positive such as Happy by Pharrell Willians and Lovely Day by Bill Withers</h2>"
   ]
  },
  {
   "cell_type": "code",
   "execution_count": 34,
   "id": "3f6f4aaf",
   "metadata": {},
   "outputs": [],
   "source": [
    "\n",
    "# # loop through the rows using iterrows()\n",
    "\n",
    "# def save_target_artist(name):\n",
    "#     song_list = []\n",
    "#     lyrics_list = []\n",
    "    \n",
    "#     for index, row in df.iterrows():\n",
    "# #         print(artist)\n",
    "#         if row['artist'] == name:\n",
    "\n",
    "# #             row_index = df.loc[df['artist'] == name].index\n",
    "#             song_list.append(row['song'])\n",
    "#             lyrics_list.append(row['text'])\n",
    "\n",
    "#     return song_list, lyrics_list\n",
    "\n",
    "\n",
    "        \n",
    "# dp_song_list, dp_lyrics_list= save_target_artist(\"Depeche Mode\")\n",
    "\n"
   ]
  },
  {
   "cell_type": "code",
   "execution_count": null,
   "id": "2e950529",
   "metadata": {},
   "outputs": [],
   "source": [
    "# song_list_pharrel, lyrics_list_pharrel = save_target_artist(\"Pharrel Williams\")\n",
    "pharrell_song_list, pharrel_lyrics_list = save_target_artist(\"Pharrell Williams\")"
   ]
  },
  {
   "cell_type": "markdown",
   "id": "69d4773e",
   "metadata": {},
   "source": [
    "<h2>Saving to csv</h2> \n"
   ]
  },
  {
   "cell_type": "code",
   "execution_count": null,
   "id": "6427a77f",
   "metadata": {},
   "outputs": [],
   "source": [
    "# #first save to dictionary\n",
    "# dp_dict_dm = {'song': dp_song_list, 'lyrics':dp_lyrics_list }\n",
    "# pw_dict_dm = {'song': pharrell_song_list, 'lyrics':pharrel_lyrics_list }\n",
    "# # dp_dict"
   ]
  },
  {
   "cell_type": "code",
   "execution_count": null,
   "id": "33ce16e1",
   "metadata": {
    "scrolled": true
   },
   "outputs": [],
   "source": [
    "# #saving to data fgrame\n",
    "# field_names = ['song_title', 'lyrics'] \n",
    "# dp_df= pd.DataFrame(dp_dict_dm)\n",
    "# dp_df\n",
    "# pw_df= pd.DataFrame(pw_dict_dm)\n",
    "# # with open('depeche_lyrics.csv', 'w') as csvfile: \n",
    "# #     writer = csv.DictWriter(csvfile, fieldnames = field_names) \n",
    "# #     writer.writeheader() \n",
    "# #     writer.writerows(dp_dict)"
   ]
  },
  {
   "cell_type": "code",
   "execution_count": null,
   "id": "67bf497e",
   "metadata": {},
   "outputs": [],
   "source": [
    "# # saving the dictonary of song and lyrics to new csv\n",
    "# dp_df.to_csv('dp_songs.csv')\n",
    "#file size trim down from 20mb to 146k!!!"
   ]
  },
  {
   "cell_type": "markdown",
   "id": "c1b2e1df",
   "metadata": {},
   "source": []
  },
  {
   "cell_type": "code",
   "execution_count": null,
   "id": "8bce9bbd",
   "metadata": {},
   "outputs": [],
   "source": []
  }
 ],
 "metadata": {
  "kernelspec": {
   "display_name": "Python 3 (ipykernel)",
   "language": "python",
   "name": "python3"
  },
  "language_info": {
   "codemirror_mode": {
    "name": "ipython",
    "version": 3
   },
   "file_extension": ".py",
   "mimetype": "text/x-python",
   "name": "python",
   "nbconvert_exporter": "python",
   "pygments_lexer": "ipython3",
   "version": "3.11.7"
  }
 },
 "nbformat": 4,
 "nbformat_minor": 5
}
